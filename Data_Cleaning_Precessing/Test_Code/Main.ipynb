{
 "cells": [
  {
   "metadata": {
    "ExecuteTime": {
     "end_time": "2025-04-26T10:59:05.410259Z",
     "start_time": "2025-04-26T10:58:37.952112Z"
    }
   },
   "cell_type": "code",
   "source": [
    "import pandas as pd\n",
    "\n",
    "df = pd.read_csv('Cleaned_encoded.csv', parse_dates=['datetime'])"
   ],
   "id": "3da3b338d0c445f0",
   "outputs": [],
   "execution_count": 1
  },
  {
   "metadata": {
    "ExecuteTime": {
     "end_time": "2025-04-21T05:18:32.386963Z",
     "start_time": "2025-04-21T05:13:04.000819Z"
    }
   },
   "cell_type": "code",
   "outputs": [
    {
     "name": "stdout",
     "output_type": "stream",
     "text": [
      "silhouette scores: [(2, np.float64(0.8033231080515175)), (3, np.float64(0.7384243366863146)), (4, np.float64(0.7216086902347246)), (5, np.float64(0.703343358043569)), (6, np.float64(0.6870407611566827))]\n",
      "Applied KMeans with k=2\n"
     ]
    }
   ],
   "execution_count": 4,
   "source": [
    "from sklearn.metrics import silhouette_score\n",
    "from sklearn.cluster import KMeans\n",
    "from sklearn.preprocessing import StandardScaler\n",
    "\n",
    "# 5. Prepare features & find best K via silhouette score\n",
    "feat_cols = ['svr1','svr2','svr3','svr4']  # adjust/add throughput cols\n",
    "X = df[feat_cols].dropna()\n",
    "scaler = StandardScaler().fit(X)\n",
    "Xs = scaler.transform(X)\n",
    "\n",
    "scores = []\n",
    "for k in range(2,7):\n",
    "    km = KMeans(n_clusters=k, random_state=42).fit(Xs)\n",
    "    scores.append((k, silhouette_score(Xs, km.labels_)))\n",
    "print('silhouette scores:', scores)\n",
    "\n",
    "# pick optimal k (e.g. k=3) and assign clusters back to df\n",
    "k_opt = max(scores, key=lambda x: x[1])[0]\n",
    "km = KMeans(n_clusters=k_opt, random_state=42).fit(Xs)\n",
    "df.loc[X.index, 'cluster'] = km.labels_\n",
    "print(f'Applied KMeans with k={k_opt}')\n"
   ],
   "id": "54dbe737d62fdd0"
  },
  {
   "metadata": {
    "ExecuteTime": {
     "end_time": "2025-04-21T05:18:32.605433Z",
     "start_time": "2025-04-21T05:18:32.468983Z"
    }
   },
   "cell_type": "code",
   "source": [
    "# — pick the busiest zone\n",
    "zone = df['square_id'].value_counts().idxmax()\n",
    "print(\"Using zone:\", zone)\n",
    "\n",
    "dfz = df[df['square_id']==zone].sort_values('datetime')\n",
    "start, end = dfz['datetime'].min(), dfz['datetime'].max()\n",
    "span_hrs = (end - start).total_seconds() / 3600\n",
    "print(f\"Time span for {zone}: {span_hrs:.1f} hours ({start} → {end})\")\n",
    "\n",
    "# — choose freq: hourly if that gives ≥10 bins, else minute\n",
    "freq = 'H'\n",
    "n_bins = len(pd.date_range(start, end, freq=freq))\n",
    "if n_bins < 10:\n",
    "    freq = 'T'\n",
    "print(f\"Resampling at '{freq}' gives {n_bins if freq=='H' else len(pd.date_range(start, end, freq=freq))} bins\")\n",
    "\n",
    "# — build the series\n",
    "ts = (\n",
    "    dfz\n",
    "    .set_index('datetime')['svr1']\n",
    "    .resample(freq)\n",
    "    .mean()\n",
    "    .interpolate()\n",
    ")\n",
    "print(f\"Final ts length: {len(ts)}\")\n",
    "\n",
    "if len(ts) < 10:\n",
    "    raise RuntimeError(f\"Still not enough data (got {len(ts)} points). Try combining multiple zones or a coarser time span.\")\n",
    "\n",
    "# — fit ARIMA(1,1,1)\n",
    "model = sm.tsa.ARIMA(ts, order=(1,1,1)).fit()\n",
    "print(model.summary())\n",
    "\n",
    "# — forecast next 3 steps (hours or minutes)\n",
    "pred = model.forecast(steps=3)\n",
    "print(\"\\nNext 3‑step forecast:\")\n",
    "print(pred)\n"
   ],
   "id": "ef3bd97a7a20f619",
   "outputs": [
    {
     "name": "stdout",
     "output_type": "stream",
     "text": [
      "Using zone: square_60129542182\n",
      "Time span for square_60129542182: 4.0 hours (2022-07-07 20:26:38 → 2022-07-08 00:25:02)\n",
      "Resampling at 'T' gives 239 bins\n",
      "Final ts length: 240\n",
      "                               SARIMAX Results                                \n",
      "==============================================================================\n",
      "Dep. Variable:                   svr1   No. Observations:                  240\n",
      "Model:                 ARIMA(1, 1, 1)   Log Likelihood               -1545.539\n",
      "Date:                Mon, 21 Apr 2025   AIC                           3097.078\n",
      "Time:                        15:18:32   BIC                           3107.507\n",
      "Sample:                    07-07-2022   HQIC                          3101.281\n",
      "                         - 07-08-2022                                         \n",
      "Covariance Type:                  opg                                         \n",
      "==============================================================================\n",
      "                 coef    std err          z      P>|z|      [0.025      0.975]\n",
      "------------------------------------------------------------------------------\n",
      "ar.L1          0.6855      0.070      9.774      0.000       0.548       0.823\n",
      "ma.L1         -0.9219      0.049    -18.669      0.000      -1.019      -0.825\n",
      "sigma2      2.418e+04   1486.366     16.267      0.000    2.13e+04    2.71e+04\n",
      "===================================================================================\n",
      "Ljung-Box (L1) (Q):                   0.56   Jarque-Bera (JB):               154.54\n",
      "Prob(Q):                              0.46   Prob(JB):                         0.00\n",
      "Heteroskedasticity (H):               0.69   Skew:                             0.65\n",
      "Prob(H) (two-sided):                  0.11   Kurtosis:                         6.72\n",
      "===================================================================================\n",
      "\n",
      "Warnings:\n",
      "[1] Covariance matrix calculated using the outer product of gradients (complex-step).\n",
      "\n",
      "Next 3‑step forecast:\n",
      "2022-07-08 00:26:00    236.894900\n",
      "2022-07-08 00:27:00    318.917219\n",
      "2022-07-08 00:28:00    375.147454\n",
      "Freq: min, Name: predicted_mean, dtype: float64\n"
     ]
    }
   ],
   "execution_count": 5
  },
  {
   "metadata": {
    "ExecuteTime": {
     "end_time": "2025-04-21T05:24:26.237455Z",
     "start_time": "2025-04-21T05:24:25.020543Z"
    }
   },
   "cell_type": "code",
   "source": [
    "# 7. Fixed LSTM‑based next‑hour prediction with safe dynamic n_steps\n",
    "\n",
    "from tensorflow.keras.models import Sequential\n",
    "from tensorflow.keras.layers import LSTM, Dense\n",
    "from sklearn.model_selection import train_test_split\n",
    "from sklearn.metrics import mean_squared_error\n",
    "import numpy as np\n",
    "\n",
    "# 7.1 Make sure your series has at least 2 points\n",
    "ts_len = len(ts)\n",
    "if ts_len < 2:\n",
    "    raise ValueError(f\"Time series too short ({ts_len} points). Need at least 2 for any LSTM.\")\n",
    "\n",
    "# 7.2 Choose n_steps so that you get >=2 sequences\n",
    "max_steps = 24\n",
    "# can't use more lags than ts_len - 1\n",
    "n_steps = min(max_steps, ts_len - 1)\n",
    "# ensure at least 1 lag\n",
    "n_steps = max(1, n_steps)\n",
    "print(f'Using n_steps = {n_steps} for series length = {ts_len}')\n",
    "\n",
    "# 7.3 Sequence builder\n",
    "def make_seqs(x, n_steps):\n",
    "    X, y = [], []\n",
    "    for i in range(len(x) - n_steps):\n",
    "        X.append(x[i : i + n_steps])\n",
    "        y.append(x[i + n_steps])\n",
    "    return np.array(X), np.array(y)\n",
    "\n",
    "X_seq, y_seq = make_seqs(ts.values, n_steps)\n",
    "n_samples = X_seq.shape[0]\n",
    "print(f'Created {n_samples} sequences.')\n",
    "\n",
    "# 7.4 Require at least two sequences to split\n",
    "if n_samples < 2:\n",
    "    raise ValueError(f\"Only {n_samples} sequence(s) available; need ≥2 for train/test split.\")\n",
    "\n",
    "# 7.5 Train/test split (time‑ordered; no shuffle)\n",
    "X_train, X_test, y_train, y_test = train_test_split(\n",
    "    X_seq, y_seq, test_size=0.2, shuffle=False\n",
    ")\n",
    "\n",
    "# 7.6 Reshape to [samples, timesteps, features]\n",
    "X_train = X_train.reshape((-1, n_steps, 1))\n",
    "X_test  = X_test.reshape((-1, n_steps, 1))\n",
    "\n",
    "# 7.7 Build & fit LSTM\n",
    "model = Sequential([\n",
    "    LSTM(50, input_shape=(n_steps, 1)),\n",
    "    Dense(1)\n",
    "])\n",
    "model.compile(optimizer='adam', loss='mse')\n",
    "model.fit(X_train, y_train, epochs=10, batch_size=32, verbose=1)\n",
    "\n",
    "# 7.8 Evaluate\n",
    "preds = model.predict(X_test)\n",
    "print('Test MSE:', mean_squared_error(y_test, preds))\n"
   ],
   "id": "20f05f511d9e720d",
   "outputs": [
    {
     "name": "stdout",
     "output_type": "stream",
     "text": [
      "Using n_steps = 24 for series length = 240\n",
      "Created 216 sequences.\n",
      "Epoch 1/10\n"
     ]
    },
    {
     "name": "stderr",
     "output_type": "stream",
     "text": [
      "E0000 00:00:1745213066.149926  242121 cuda_dnn.cc:522] Loaded runtime CuDNN library: 9.1.0 but source was compiled with: 9.3.0.  CuDNN library needs to have matching major version and equal or higher minor version. If using a binary install, upgrade your CuDNN library.  If building from sources, make sure the library loaded at runtime is compatible with the version specified during compile configuration.\n",
      "2025-04-21 15:24:26.150554: W tensorflow/core/framework/op_kernel.cc:1857] OP_REQUIRES failed at cudnn_rnn_ops.cc:1769 : INVALID_ARGUMENT: Dnn is not supported\n"
     ]
    },
    {
     "ename": "InvalidArgumentError",
     "evalue": "Graph execution error:\n\nDetected at node sequential_2_1/lstm_2_1/CudnnRNNV3 defined at (most recent call last):\n  File \"/home/admin/anaconda3/envs/AI_Eng/lib/python3.10/runpy.py\", line 196, in _run_module_as_main\n\n  File \"/home/admin/anaconda3/envs/AI_Eng/lib/python3.10/runpy.py\", line 86, in _run_code\n\n  File \"/home/admin/anaconda3/envs/AI_Eng/lib/python3.10/site-packages/ipykernel_launcher.py\", line 18, in <module>\n\n  File \"/home/admin/.local/lib/python3.10/site-packages/traitlets/config/application.py\", line 1075, in launch_instance\n\n  File \"/home/admin/anaconda3/envs/AI_Eng/lib/python3.10/site-packages/ipykernel/kernelapp.py\", line 739, in start\n\n  File \"/home/admin/.local/lib/python3.10/site-packages/tornado/platform/asyncio.py\", line 205, in start\n\n  File \"/home/admin/anaconda3/envs/AI_Eng/lib/python3.10/asyncio/base_events.py\", line 603, in run_forever\n\n  File \"/home/admin/anaconda3/envs/AI_Eng/lib/python3.10/asyncio/base_events.py\", line 1909, in _run_once\n\n  File \"/home/admin/anaconda3/envs/AI_Eng/lib/python3.10/asyncio/events.py\", line 80, in _run\n\n  File \"/home/admin/anaconda3/envs/AI_Eng/lib/python3.10/site-packages/ipykernel/kernelbase.py\", line 545, in dispatch_queue\n\n  File \"/home/admin/anaconda3/envs/AI_Eng/lib/python3.10/site-packages/ipykernel/kernelbase.py\", line 534, in process_one\n\n  File \"/home/admin/anaconda3/envs/AI_Eng/lib/python3.10/site-packages/ipykernel/kernelbase.py\", line 437, in dispatch_shell\n\n  File \"/home/admin/anaconda3/envs/AI_Eng/lib/python3.10/site-packages/ipykernel/ipkernel.py\", line 362, in execute_request\n\n  File \"/home/admin/anaconda3/envs/AI_Eng/lib/python3.10/site-packages/ipykernel/kernelbase.py\", line 778, in execute_request\n\n  File \"/home/admin/anaconda3/envs/AI_Eng/lib/python3.10/site-packages/ipykernel/ipkernel.py\", line 449, in do_execute\n\n  File \"/home/admin/anaconda3/envs/AI_Eng/lib/python3.10/site-packages/ipykernel/zmqshell.py\", line 549, in run_cell\n\n  File \"/home/admin/.local/lib/python3.10/site-packages/IPython/core/interactiveshell.py\", line 3075, in run_cell\n\n  File \"/home/admin/.local/lib/python3.10/site-packages/IPython/core/interactiveshell.py\", line 3130, in _run_cell\n\n  File \"/home/admin/.local/lib/python3.10/site-packages/IPython/core/async_helpers.py\", line 128, in _pseudo_sync_runner\n\n  File \"/home/admin/.local/lib/python3.10/site-packages/IPython/core/interactiveshell.py\", line 3334, in run_cell_async\n\n  File \"/home/admin/.local/lib/python3.10/site-packages/IPython/core/interactiveshell.py\", line 3517, in run_ast_nodes\n\n  File \"/home/admin/.local/lib/python3.10/site-packages/IPython/core/interactiveshell.py\", line 3577, in run_code\n\n  File \"/tmp/ipykernel_231864/313619368.py\", line 53, in <module>\n\n  File \"/home/admin/.local/lib/python3.10/site-packages/keras/src/utils/traceback_utils.py\", line 117, in error_handler\n\n  File \"/home/admin/.local/lib/python3.10/site-packages/keras/src/backend/tensorflow/trainer.py\", line 371, in fit\n\n  File \"/home/admin/.local/lib/python3.10/site-packages/keras/src/backend/tensorflow/trainer.py\", line 219, in function\n\n  File \"/home/admin/.local/lib/python3.10/site-packages/keras/src/backend/tensorflow/trainer.py\", line 132, in multi_step_on_iterator\n\n  File \"/home/admin/.local/lib/python3.10/site-packages/keras/src/backend/tensorflow/trainer.py\", line 113, in one_step_on_data\n\n  File \"/home/admin/.local/lib/python3.10/site-packages/keras/src/backend/tensorflow/trainer.py\", line 57, in train_step\n\n  File \"/home/admin/.local/lib/python3.10/site-packages/keras/src/utils/traceback_utils.py\", line 117, in error_handler\n\n  File \"/home/admin/.local/lib/python3.10/site-packages/keras/src/layers/layer.py\", line 910, in __call__\n\n  File \"/home/admin/.local/lib/python3.10/site-packages/keras/src/utils/traceback_utils.py\", line 117, in error_handler\n\n  File \"/home/admin/.local/lib/python3.10/site-packages/keras/src/ops/operation.py\", line 58, in __call__\n\n  File \"/home/admin/.local/lib/python3.10/site-packages/keras/src/utils/traceback_utils.py\", line 156, in error_handler\n\n  File \"/home/admin/.local/lib/python3.10/site-packages/keras/src/models/sequential.py\", line 221, in call\n\n  File \"/home/admin/.local/lib/python3.10/site-packages/keras/src/models/functional.py\", line 183, in call\n\n  File \"/home/admin/.local/lib/python3.10/site-packages/keras/src/ops/function.py\", line 171, in _run_through_graph\n\n  File \"/home/admin/.local/lib/python3.10/site-packages/keras/src/models/functional.py\", line 643, in call\n\n  File \"/home/admin/.local/lib/python3.10/site-packages/keras/src/utils/traceback_utils.py\", line 117, in error_handler\n\n  File \"/home/admin/.local/lib/python3.10/site-packages/keras/src/layers/layer.py\", line 910, in __call__\n\n  File \"/home/admin/.local/lib/python3.10/site-packages/keras/src/utils/traceback_utils.py\", line 117, in error_handler\n\n  File \"/home/admin/.local/lib/python3.10/site-packages/keras/src/ops/operation.py\", line 58, in __call__\n\n  File \"/home/admin/.local/lib/python3.10/site-packages/keras/src/utils/traceback_utils.py\", line 156, in error_handler\n\n  File \"/home/admin/.local/lib/python3.10/site-packages/keras/src/layers/rnn/lstm.py\", line 584, in call\n\n  File \"/home/admin/.local/lib/python3.10/site-packages/keras/src/layers/rnn/rnn.py\", line 408, in call\n\n  File \"/home/admin/.local/lib/python3.10/site-packages/keras/src/layers/rnn/lstm.py\", line 551, in inner_loop\n\n  File \"/home/admin/.local/lib/python3.10/site-packages/keras/src/backend/tensorflow/rnn.py\", line 841, in lstm\n\n  File \"/home/admin/.local/lib/python3.10/site-packages/keras/src/backend/tensorflow/rnn.py\", line 933, in _cudnn_lstm\n\nDnn is not supported\n\t [[{{node sequential_2_1/lstm_2_1/CudnnRNNV3}}]] [Op:__inference_multi_step_on_iterator_4575]",
     "output_type": "error",
     "traceback": [
      "\u001B[0;31m---------------------------------------------------------------------------\u001B[0m",
      "\u001B[0;31mInvalidArgumentError\u001B[0m                      Traceback (most recent call last)",
      "Cell \u001B[0;32mIn[8], line 53\u001B[0m\n\u001B[1;32m     48\u001B[0m model \u001B[38;5;241m=\u001B[39m Sequential([\n\u001B[1;32m     49\u001B[0m     LSTM(\u001B[38;5;241m50\u001B[39m, input_shape\u001B[38;5;241m=\u001B[39m(n_steps, \u001B[38;5;241m1\u001B[39m)),\n\u001B[1;32m     50\u001B[0m     Dense(\u001B[38;5;241m1\u001B[39m)\n\u001B[1;32m     51\u001B[0m ])\n\u001B[1;32m     52\u001B[0m model\u001B[38;5;241m.\u001B[39mcompile(optimizer\u001B[38;5;241m=\u001B[39m\u001B[38;5;124m'\u001B[39m\u001B[38;5;124madam\u001B[39m\u001B[38;5;124m'\u001B[39m, loss\u001B[38;5;241m=\u001B[39m\u001B[38;5;124m'\u001B[39m\u001B[38;5;124mmse\u001B[39m\u001B[38;5;124m'\u001B[39m)\n\u001B[0;32m---> 53\u001B[0m \u001B[43mmodel\u001B[49m\u001B[38;5;241;43m.\u001B[39;49m\u001B[43mfit\u001B[49m\u001B[43m(\u001B[49m\u001B[43mX_train\u001B[49m\u001B[43m,\u001B[49m\u001B[43m \u001B[49m\u001B[43my_train\u001B[49m\u001B[43m,\u001B[49m\u001B[43m \u001B[49m\u001B[43mepochs\u001B[49m\u001B[38;5;241;43m=\u001B[39;49m\u001B[38;5;241;43m10\u001B[39;49m\u001B[43m,\u001B[49m\u001B[43m \u001B[49m\u001B[43mbatch_size\u001B[49m\u001B[38;5;241;43m=\u001B[39;49m\u001B[38;5;241;43m32\u001B[39;49m\u001B[43m,\u001B[49m\u001B[43m \u001B[49m\u001B[43mverbose\u001B[49m\u001B[38;5;241;43m=\u001B[39;49m\u001B[38;5;241;43m1\u001B[39;49m\u001B[43m)\u001B[49m\n\u001B[1;32m     55\u001B[0m \u001B[38;5;66;03m# 7.8 Evaluate\u001B[39;00m\n\u001B[1;32m     56\u001B[0m preds \u001B[38;5;241m=\u001B[39m model\u001B[38;5;241m.\u001B[39mpredict(X_test)\n",
      "File \u001B[0;32m~/.local/lib/python3.10/site-packages/keras/src/utils/traceback_utils.py:122\u001B[0m, in \u001B[0;36mfilter_traceback.<locals>.error_handler\u001B[0;34m(*args, **kwargs)\u001B[0m\n\u001B[1;32m    119\u001B[0m     filtered_tb \u001B[38;5;241m=\u001B[39m _process_traceback_frames(e\u001B[38;5;241m.\u001B[39m__traceback__)\n\u001B[1;32m    120\u001B[0m     \u001B[38;5;66;03m# To get the full stack trace, call:\u001B[39;00m\n\u001B[1;32m    121\u001B[0m     \u001B[38;5;66;03m# `keras.config.disable_traceback_filtering()`\u001B[39;00m\n\u001B[0;32m--> 122\u001B[0m     \u001B[38;5;28;01mraise\u001B[39;00m e\u001B[38;5;241m.\u001B[39mwith_traceback(filtered_tb) \u001B[38;5;28;01mfrom\u001B[39;00m\u001B[38;5;250m \u001B[39m\u001B[38;5;28;01mNone\u001B[39;00m\n\u001B[1;32m    123\u001B[0m \u001B[38;5;28;01mfinally\u001B[39;00m:\n\u001B[1;32m    124\u001B[0m     \u001B[38;5;28;01mdel\u001B[39;00m filtered_tb\n",
      "File \u001B[0;32m~/.local/lib/python3.10/site-packages/tensorflow/python/eager/execute.py:53\u001B[0m, in \u001B[0;36mquick_execute\u001B[0;34m(op_name, num_outputs, inputs, attrs, ctx, name)\u001B[0m\n\u001B[1;32m     51\u001B[0m \u001B[38;5;28;01mtry\u001B[39;00m:\n\u001B[1;32m     52\u001B[0m   ctx\u001B[38;5;241m.\u001B[39mensure_initialized()\n\u001B[0;32m---> 53\u001B[0m   tensors \u001B[38;5;241m=\u001B[39m pywrap_tfe\u001B[38;5;241m.\u001B[39mTFE_Py_Execute(ctx\u001B[38;5;241m.\u001B[39m_handle, device_name, op_name,\n\u001B[1;32m     54\u001B[0m                                       inputs, attrs, num_outputs)\n\u001B[1;32m     55\u001B[0m \u001B[38;5;28;01mexcept\u001B[39;00m core\u001B[38;5;241m.\u001B[39m_NotOkStatusException \u001B[38;5;28;01mas\u001B[39;00m e:\n\u001B[1;32m     56\u001B[0m   \u001B[38;5;28;01mif\u001B[39;00m name \u001B[38;5;129;01mis\u001B[39;00m \u001B[38;5;129;01mnot\u001B[39;00m \u001B[38;5;28;01mNone\u001B[39;00m:\n",
      "\u001B[0;31mInvalidArgumentError\u001B[0m: Graph execution error:\n\nDetected at node sequential_2_1/lstm_2_1/CudnnRNNV3 defined at (most recent call last):\n  File \"/home/admin/anaconda3/envs/AI_Eng/lib/python3.10/runpy.py\", line 196, in _run_module_as_main\n\n  File \"/home/admin/anaconda3/envs/AI_Eng/lib/python3.10/runpy.py\", line 86, in _run_code\n\n  File \"/home/admin/anaconda3/envs/AI_Eng/lib/python3.10/site-packages/ipykernel_launcher.py\", line 18, in <module>\n\n  File \"/home/admin/.local/lib/python3.10/site-packages/traitlets/config/application.py\", line 1075, in launch_instance\n\n  File \"/home/admin/anaconda3/envs/AI_Eng/lib/python3.10/site-packages/ipykernel/kernelapp.py\", line 739, in start\n\n  File \"/home/admin/.local/lib/python3.10/site-packages/tornado/platform/asyncio.py\", line 205, in start\n\n  File \"/home/admin/anaconda3/envs/AI_Eng/lib/python3.10/asyncio/base_events.py\", line 603, in run_forever\n\n  File \"/home/admin/anaconda3/envs/AI_Eng/lib/python3.10/asyncio/base_events.py\", line 1909, in _run_once\n\n  File \"/home/admin/anaconda3/envs/AI_Eng/lib/python3.10/asyncio/events.py\", line 80, in _run\n\n  File \"/home/admin/anaconda3/envs/AI_Eng/lib/python3.10/site-packages/ipykernel/kernelbase.py\", line 545, in dispatch_queue\n\n  File \"/home/admin/anaconda3/envs/AI_Eng/lib/python3.10/site-packages/ipykernel/kernelbase.py\", line 534, in process_one\n\n  File \"/home/admin/anaconda3/envs/AI_Eng/lib/python3.10/site-packages/ipykernel/kernelbase.py\", line 437, in dispatch_shell\n\n  File \"/home/admin/anaconda3/envs/AI_Eng/lib/python3.10/site-packages/ipykernel/ipkernel.py\", line 362, in execute_request\n\n  File \"/home/admin/anaconda3/envs/AI_Eng/lib/python3.10/site-packages/ipykernel/kernelbase.py\", line 778, in execute_request\n\n  File \"/home/admin/anaconda3/envs/AI_Eng/lib/python3.10/site-packages/ipykernel/ipkernel.py\", line 449, in do_execute\n\n  File \"/home/admin/anaconda3/envs/AI_Eng/lib/python3.10/site-packages/ipykernel/zmqshell.py\", line 549, in run_cell\n\n  File \"/home/admin/.local/lib/python3.10/site-packages/IPython/core/interactiveshell.py\", line 3075, in run_cell\n\n  File \"/home/admin/.local/lib/python3.10/site-packages/IPython/core/interactiveshell.py\", line 3130, in _run_cell\n\n  File \"/home/admin/.local/lib/python3.10/site-packages/IPython/core/async_helpers.py\", line 128, in _pseudo_sync_runner\n\n  File \"/home/admin/.local/lib/python3.10/site-packages/IPython/core/interactiveshell.py\", line 3334, in run_cell_async\n\n  File \"/home/admin/.local/lib/python3.10/site-packages/IPython/core/interactiveshell.py\", line 3517, in run_ast_nodes\n\n  File \"/home/admin/.local/lib/python3.10/site-packages/IPython/core/interactiveshell.py\", line 3577, in run_code\n\n  File \"/tmp/ipykernel_231864/313619368.py\", line 53, in <module>\n\n  File \"/home/admin/.local/lib/python3.10/site-packages/keras/src/utils/traceback_utils.py\", line 117, in error_handler\n\n  File \"/home/admin/.local/lib/python3.10/site-packages/keras/src/backend/tensorflow/trainer.py\", line 371, in fit\n\n  File \"/home/admin/.local/lib/python3.10/site-packages/keras/src/backend/tensorflow/trainer.py\", line 219, in function\n\n  File \"/home/admin/.local/lib/python3.10/site-packages/keras/src/backend/tensorflow/trainer.py\", line 132, in multi_step_on_iterator\n\n  File \"/home/admin/.local/lib/python3.10/site-packages/keras/src/backend/tensorflow/trainer.py\", line 113, in one_step_on_data\n\n  File \"/home/admin/.local/lib/python3.10/site-packages/keras/src/backend/tensorflow/trainer.py\", line 57, in train_step\n\n  File \"/home/admin/.local/lib/python3.10/site-packages/keras/src/utils/traceback_utils.py\", line 117, in error_handler\n\n  File \"/home/admin/.local/lib/python3.10/site-packages/keras/src/layers/layer.py\", line 910, in __call__\n\n  File \"/home/admin/.local/lib/python3.10/site-packages/keras/src/utils/traceback_utils.py\", line 117, in error_handler\n\n  File \"/home/admin/.local/lib/python3.10/site-packages/keras/src/ops/operation.py\", line 58, in __call__\n\n  File \"/home/admin/.local/lib/python3.10/site-packages/keras/src/utils/traceback_utils.py\", line 156, in error_handler\n\n  File \"/home/admin/.local/lib/python3.10/site-packages/keras/src/models/sequential.py\", line 221, in call\n\n  File \"/home/admin/.local/lib/python3.10/site-packages/keras/src/models/functional.py\", line 183, in call\n\n  File \"/home/admin/.local/lib/python3.10/site-packages/keras/src/ops/function.py\", line 171, in _run_through_graph\n\n  File \"/home/admin/.local/lib/python3.10/site-packages/keras/src/models/functional.py\", line 643, in call\n\n  File \"/home/admin/.local/lib/python3.10/site-packages/keras/src/utils/traceback_utils.py\", line 117, in error_handler\n\n  File \"/home/admin/.local/lib/python3.10/site-packages/keras/src/layers/layer.py\", line 910, in __call__\n\n  File \"/home/admin/.local/lib/python3.10/site-packages/keras/src/utils/traceback_utils.py\", line 117, in error_handler\n\n  File \"/home/admin/.local/lib/python3.10/site-packages/keras/src/ops/operation.py\", line 58, in __call__\n\n  File \"/home/admin/.local/lib/python3.10/site-packages/keras/src/utils/traceback_utils.py\", line 156, in error_handler\n\n  File \"/home/admin/.local/lib/python3.10/site-packages/keras/src/layers/rnn/lstm.py\", line 584, in call\n\n  File \"/home/admin/.local/lib/python3.10/site-packages/keras/src/layers/rnn/rnn.py\", line 408, in call\n\n  File \"/home/admin/.local/lib/python3.10/site-packages/keras/src/layers/rnn/lstm.py\", line 551, in inner_loop\n\n  File \"/home/admin/.local/lib/python3.10/site-packages/keras/src/backend/tensorflow/rnn.py\", line 841, in lstm\n\n  File \"/home/admin/.local/lib/python3.10/site-packages/keras/src/backend/tensorflow/rnn.py\", line 933, in _cudnn_lstm\n\nDnn is not supported\n\t [[{{node sequential_2_1/lstm_2_1/CudnnRNNV3}}]] [Op:__inference_multi_step_on_iterator_4575]"
     ]
    }
   ],
   "execution_count": 8
  },
  {
   "metadata": {
    "ExecuteTime": {
     "end_time": "2025-04-21T05:18:38.846479995Z",
     "start_time": "2025-04-21T05:07:50.720231Z"
    }
   },
   "cell_type": "code",
   "source": [
    "import tensorflow as tf\n",
    "\n",
    "# 1. Make sure TF can see your GPU\n",
    "gpus = tf.config.list_physical_devices('GPU')\n",
    "assert gpus, \"No GPU found – check your CUDA_VISIBLE_DEVICES and driver install!\"\n",
    "print(\"GPUs detected:\", gpus)\n",
    "\n",
    "# 2. Enable memory growth so TF doesn’t pre‑allocate all GPU RAM\n",
    "for gpu in gpus:\n",
    "    tf.config.experimental.set_memory_growth(gpu, True)\n",
    "\n",
    "# 3. Turn on device placement logging\n",
    "tf.debugging.set_log_device_placement(True)\n",
    "\n",
    "# 4. (Optionally) wrap your model training in a GPU device context\n",
    "with tf.device('/GPU:0'):\n",
    "    model = tf.keras.Sequential([\n",
    "        tf.keras.layers.LSTM(50, input_shape=(n_steps, 1)), \n",
    "        tf.keras.layers.Dense(1)\n",
    "    ])\n",
    "    model.compile(optimizer='adam', loss='mse')\n",
    "    model.fit(X_train, y_train, epochs=3, batch_size=32)\n"
   ],
   "id": "4fcaf5307ab3b801",
   "outputs": [
    {
     "name": "stdout",
     "output_type": "stream",
     "text": [
      "GPUs detected: [PhysicalDevice(name='/physical_device:GPU:0', device_type='GPU')]\n"
     ]
    },
    {
     "ename": "RuntimeError",
     "evalue": "Physical devices cannot be modified after being initialized",
     "output_type": "error",
     "traceback": [
      "\u001B[0;31m---------------------------------------------------------------------------\u001B[0m",
      "\u001B[0;31mRuntimeError\u001B[0m                              Traceback (most recent call last)",
      "Cell \u001B[0;32mIn[20], line 10\u001B[0m\n\u001B[1;32m      8\u001B[0m \u001B[38;5;66;03m# 2. Enable memory growth so TF doesn’t pre‑allocate all GPU RAM\u001B[39;00m\n\u001B[1;32m      9\u001B[0m \u001B[38;5;28;01mfor\u001B[39;00m gpu \u001B[38;5;129;01min\u001B[39;00m gpus:\n\u001B[0;32m---> 10\u001B[0m     \u001B[43mtf\u001B[49m\u001B[38;5;241;43m.\u001B[39;49m\u001B[43mconfig\u001B[49m\u001B[38;5;241;43m.\u001B[39;49m\u001B[43mexperimental\u001B[49m\u001B[38;5;241;43m.\u001B[39;49m\u001B[43mset_memory_growth\u001B[49m\u001B[43m(\u001B[49m\u001B[43mgpu\u001B[49m\u001B[43m,\u001B[49m\u001B[43m \u001B[49m\u001B[38;5;28;43;01mTrue\u001B[39;49;00m\u001B[43m)\u001B[49m\n\u001B[1;32m     12\u001B[0m \u001B[38;5;66;03m# 3. Turn on device placement logging\u001B[39;00m\n\u001B[1;32m     13\u001B[0m tf\u001B[38;5;241m.\u001B[39mdebugging\u001B[38;5;241m.\u001B[39mset_log_device_placement(\u001B[38;5;28;01mTrue\u001B[39;00m)\n",
      "File \u001B[0;32m~/.local/lib/python3.10/site-packages/tensorflow/python/framework/config.py:754\u001B[0m, in \u001B[0;36mset_memory_growth\u001B[0;34m(device, enable)\u001B[0m\n\u001B[1;32m    729\u001B[0m \u001B[38;5;129m@tf_export\u001B[39m(\u001B[38;5;124m'\u001B[39m\u001B[38;5;124mconfig.experimental.set_memory_growth\u001B[39m\u001B[38;5;124m'\u001B[39m)\n\u001B[1;32m    730\u001B[0m \u001B[38;5;28;01mdef\u001B[39;00m\u001B[38;5;250m \u001B[39m\u001B[38;5;21mset_memory_growth\u001B[39m(device, enable):\n\u001B[1;32m    731\u001B[0m \u001B[38;5;250m  \u001B[39m\u001B[38;5;124;03m\"\"\"Set if memory growth should be enabled for a `PhysicalDevice`.\u001B[39;00m\n\u001B[1;32m    732\u001B[0m \n\u001B[1;32m    733\u001B[0m \u001B[38;5;124;03m  If memory growth is enabled for a `PhysicalDevice`, the runtime initialization\u001B[39;00m\n\u001B[0;32m   (...)\u001B[0m\n\u001B[1;32m    752\u001B[0m \u001B[38;5;124;03m    RuntimeError: Runtime is already initialized.\u001B[39;00m\n\u001B[1;32m    753\u001B[0m \u001B[38;5;124;03m  \"\"\"\u001B[39;00m\n\u001B[0;32m--> 754\u001B[0m   \u001B[43mcontext\u001B[49m\u001B[38;5;241;43m.\u001B[39;49m\u001B[43mcontext\u001B[49m\u001B[43m(\u001B[49m\u001B[43m)\u001B[49m\u001B[38;5;241;43m.\u001B[39;49m\u001B[43mset_memory_growth\u001B[49m\u001B[43m(\u001B[49m\u001B[43mdevice\u001B[49m\u001B[43m,\u001B[49m\u001B[43m \u001B[49m\u001B[43menable\u001B[49m\u001B[43m)\u001B[49m\n",
      "File \u001B[0;32m~/.local/lib/python3.10/site-packages/tensorflow/python/eager/context.py:1998\u001B[0m, in \u001B[0;36mContext.set_memory_growth\u001B[0;34m(self, dev, enable)\u001B[0m\n\u001B[1;32m   1995\u001B[0m   \u001B[38;5;28;01mreturn\u001B[39;00m\n\u001B[1;32m   1997\u001B[0m \u001B[38;5;28;01mif\u001B[39;00m \u001B[38;5;28mself\u001B[39m\u001B[38;5;241m.\u001B[39m_context_handle \u001B[38;5;129;01mis\u001B[39;00m \u001B[38;5;129;01mnot\u001B[39;00m \u001B[38;5;28;01mNone\u001B[39;00m:\n\u001B[0;32m-> 1998\u001B[0m   \u001B[38;5;28;01mraise\u001B[39;00m \u001B[38;5;167;01mRuntimeError\u001B[39;00m(\n\u001B[1;32m   1999\u001B[0m       \u001B[38;5;124m\"\u001B[39m\u001B[38;5;124mPhysical devices cannot be modified after being initialized\u001B[39m\u001B[38;5;124m\"\u001B[39m\n\u001B[1;32m   2000\u001B[0m   )\n\u001B[1;32m   2002\u001B[0m \u001B[38;5;28mself\u001B[39m\u001B[38;5;241m.\u001B[39m_memory_growth_map[dev] \u001B[38;5;241m=\u001B[39m enable\n",
      "\u001B[0;31mRuntimeError\u001B[0m: Physical devices cannot be modified after being initialized"
     ]
    }
   ],
   "execution_count": 20
  },
  {
   "metadata": {},
   "cell_type": "code",
   "outputs": [],
   "execution_count": null,
   "source": "",
   "id": "14a284be1252303e"
  }
 ],
 "metadata": {
  "kernelspec": {
   "display_name": "Python 3",
   "language": "python",
   "name": "python3"
  },
  "language_info": {
   "codemirror_mode": {
    "name": "ipython",
    "version": 2
   },
   "file_extension": ".py",
   "mimetype": "text/x-python",
   "name": "python",
   "nbconvert_exporter": "python",
   "pygments_lexer": "ipython2",
   "version": "2.7.6"
  }
 },
 "nbformat": 4,
 "nbformat_minor": 5
}
