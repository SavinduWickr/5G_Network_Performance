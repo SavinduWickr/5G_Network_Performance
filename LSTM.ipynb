{
 "cells": [
  {
   "cell_type": "code",
   "execution_count": null,
   "id": "b08e5ec7",
   "metadata": {},
   "outputs": [],
   "source": [
    "import pandas as pd\n",
    "import numpy as np\n",
    "from keras.models import Sequential\n",
    "from keras.layers import LSTM, Dense\n",
    "from keras.preprocessing.sequence import TimeseriesGenerator\n",
    "import matplotlib.pyplot as plt"
   ]
  },
  {
   "cell_type": "code",
   "execution_count": null,
   "id": "6e5a3760",
   "metadata": {},
   "outputs": [],
   "source": [
    "df_forecast = pd.read_csv(\"dataset5_important_features.csv\", parse_dates=['datetime'])\n",
    "df_forecast = df_forecast.sort_values('datetime')"
   ]
  },
  {
   "cell_type": "markdown",
   "id": "2e54dea3",
   "metadata": {},
   "source": [
    "Resampling hourly just to be sure"
   ]
  },
  {
   "cell_type": "code",
   "execution_count": null,
   "id": "e944bff2",
   "metadata": {},
   "outputs": [],
   "source": [
    "df_forecast = df_forecast.set_index('datetime').resample('1h').mean().dropna()\n",
    "df_forecast.reset_index(inplace=True)"
   ]
  },
  {
   "cell_type": "code",
   "execution_count": null,
   "id": "4ad937e0",
   "metadata": {},
   "outputs": [],
   "source": [
    "target_col = 'svr1'\n",
    "generator = TimeseriesGenerator(\n",
    "    df_forecast.drop(columns=[target_col, 'datetime']).values,\n",
    "    df_forecast[target_col].values,\n",
    "    length=24,\n",
    "    batch_size=32\n",
    ")"
   ]
  },
  {
   "cell_type": "markdown",
   "id": "866c39f3",
   "metadata": {},
   "source": [
    "Simple LSTM"
   ]
  },
  {
   "cell_type": "code",
   "execution_count": null,
   "id": "4068aa79",
   "metadata": {},
   "outputs": [],
   "source": [
    "model = Sequential([\n",
    "    LSTM(50, activation='relu', input_shape=(24, df_forecast.drop(columns=[target_col, 'datetime']).shape[1])),\n",
    "    Dense(1)\n",
    "])\n",
    "model.compile(optimizer='adam', loss='mse')"
   ]
  },
  {
   "cell_type": "code",
   "execution_count": null,
   "id": "abf84063",
   "metadata": {},
   "outputs": [],
   "source": [
    "history = model.fit(generator, epochs=50, verbose=2)\n",
    "plt.plot(history.history['loss'])\n",
    "plt.title(\"LSTM Training Loss\")\n",
    "plt.xlabel(\"Epoch\")\n",
    "plt.ylabel(\"MSE Loss\")\n",
    "plt.savefig(\"lstm_training_loss.png\")\n",
    "plt.show()"
   ]
  }
 ],
 "metadata": {
  "language_info": {
   "name": "python"
  }
 },
 "nbformat": 4,
 "nbformat_minor": 5
}
