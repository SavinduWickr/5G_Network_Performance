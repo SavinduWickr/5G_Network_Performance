{
 "cells": [
  {
   "cell_type": "code",
   "execution_count": null,
   "id": "db6415d2",
   "metadata": {},
   "outputs": [],
   "source": [
    "import pandas as pd\n",
    "import lightgbm as lgb\n",
    "from sklearn.model_selection import train_test_split\n",
    "from sklearn.metrics import mean_squared_error"
   ]
  },
  {
   "cell_type": "code",
   "execution_count": null,
   "id": "115f85a6",
   "metadata": {},
   "outputs": [],
   "source": [
    "df_imp = pd.read_csv(\"dataset5_important_features.csv\")"
   ]
  },
  {
   "cell_type": "code",
   "execution_count": null,
   "id": "84f6687a",
   "metadata": {},
   "outputs": [],
   "source": [
    "X = df_imp.drop(columns=['svr1', 'datetime', 'hex_id'])\n",
    "y = df_imp['svr1']"
   ]
  },
  {
   "cell_type": "code",
   "execution_count": null,
   "id": "87ea852c",
   "metadata": {},
   "outputs": [],
   "source": [
    "X_train, X_test, y_train, y_test = train_test_split(X, y, test_size=0.2, random_state=42, shuffle=False)"
   ]
  },
  {
   "cell_type": "code",
   "execution_count": null,
   "id": "c157a699",
   "metadata": {},
   "outputs": [],
   "source": [
    "train_data = lgb.Dataset(X_train, label=y_train)\n",
    "test_data = lgb.Dataset(X_test, label=y_test, reference=train_data)"
   ]
  },
  {
   "cell_type": "code",
   "execution_count": null,
   "id": "3366d71d",
   "metadata": {},
   "outputs": [],
   "source": [
    "params = {\n",
    "    'objective': 'regression',\n",
    "    'metric': 'rmse',\n",
    "    'learning_rate': 0.05,\n",
    "    'verbose': -1\n",
    "}"
   ]
  },
  {
   "cell_type": "code",
   "execution_count": null,
   "id": "0d7c1791",
   "metadata": {},
   "outputs": [],
   "source": [
    "model = lgb.train(params, train_data, valid_sets=[test_data], num_boost_round=500, early_stopping_rounds=50)\n",
    "y_pred = model.predict(X_test)\n",
    "rmse = np.sqrt(mean_squared_error(y_test, y_pred))\n",
    "print(\"Test RMSE:\", rmse)"
   ]
  }
 ],
 "metadata": {
  "language_info": {
   "name": "python"
  }
 },
 "nbformat": 4,
 "nbformat_minor": 5
}
