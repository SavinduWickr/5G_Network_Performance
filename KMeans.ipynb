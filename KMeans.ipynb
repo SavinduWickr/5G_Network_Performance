{
 "cells": [
  {
   "cell_type": "code",
   "execution_count": null,
   "id": "29352568",
   "metadata": {},
   "outputs": [],
   "source": [
    "import pandas as pd\n",
    "from sklearn.cluster import KMeans\n",
    "import matplotlib.pyplot as plt"
   ]
  },
  {
   "cell_type": "code",
   "execution_count": null,
   "id": "04a8b388",
   "metadata": {},
   "outputs": [],
   "source": [
    "cluster_data = pd.read_csv(\"dataset3_normalized_data.csv\")"
   ]
  },
  {
   "cell_type": "code",
   "execution_count": null,
   "id": "e2af3528",
   "metadata": {},
   "outputs": [],
   "source": [
    "features = cluster_data[['latitude_norm', 'longitude_norm', 'dist_from_cbd_norm']]"
   ]
  },
  {
   "cell_type": "markdown",
   "id": "a8ffbfc9",
   "metadata": {},
   "source": [
    "Elbow Method"
   ]
  },
  {
   "cell_type": "code",
   "execution_count": null,
   "id": "665dc04e",
   "metadata": {},
   "outputs": [],
   "source": [
    "inertia = []\n",
    "for k in range(2, 10):\n",
    "    kmeans = KMeans(n_clusters=k, random_state=42)\n",
    "    kmeans.fit(features)\n",
    "    inertia.append(kmeans.inertia_)"
   ]
  },
  {
   "cell_type": "code",
   "execution_count": null,
   "id": "6342b019",
   "metadata": {},
   "outputs": [],
   "source": [
    "plt.figure(figsize=(8,6))\n",
    "plt.plot(range(2, 10), inertia, marker='o')\n",
    "plt.xlabel(\"Number of Clusters\")\n",
    "plt.ylabel(\"Inertia\")\n",
    "plt.title(\"Elbow Method for Optimal Cluster Count\")\n",
    "plt.savefig(\"cluster_elbow.png\")\n",
    "plt.show()\n",
    "\n"
   ]
  },
  {
   "cell_type": "code",
   "execution_count": null,
   "id": "2a222177",
   "metadata": {},
   "outputs": [],
   "source": [
    "kmeans_final = KMeans(n_clusters=5, random_state=42)\n",
    "cluster_labels = kmeans_final.fit_predict(features)\n",
    "cluster_data['cluster'] = cluster_labels\n",
    "cluster_data.to_csv(\"cluster_forecasting_ready.csv\", index=False)"
   ]
  }
 ],
 "metadata": {
  "language_info": {
   "name": "python"
  }
 },
 "nbformat": 4,
 "nbformat_minor": 5
}
