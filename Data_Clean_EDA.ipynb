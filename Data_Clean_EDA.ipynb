{
 "cells": [
  {
   "metadata": {
    "ExecuteTime": {
     "end_time": "2025-04-21T06:34:07.745347Z",
     "start_time": "2025-04-21T06:34:07.741350Z"
    }
   },
   "cell_type": "code",
   "source": [
    "# import pandas as pd\n",
    "# import numpy as np\n",
    "# import matplotlib.pyplot as plt\n",
    "# from sklearn.cluster import KMeans\n",
    "# from sklearn.preprocessing import StandardScaler\n",
    "# from sklearn.metrics import silhouette_score\n",
    "# import statsmodels.api as sm\n",
    "# from sklearn.model_selection import train_test_split\n",
    "# from sklearn.metrics import mean_squared_error"
   ],
   "id": "c45327f30497829c",
   "outputs": [],
   "execution_count": 3
  },
  {
   "metadata": {
    "collapsed": true,
    "ExecuteTime": {
     "end_time": "2025-04-21T06:34:41.267745Z",
     "start_time": "2025-04-21T06:34:41.261737Z"
    }
   },
   "cell_type": "code",
   "source": [
    "# 1. Imports and find all CSVs\n",
    "import os\n",
    "import glob\n",
    "\n",
    "import warnings\n",
    "warnings.filterwarnings('ignore')\n",
    "\n",
    "# adjust this path to wherever your Theme5/data folder lives\n",
    "data_dir = 'data'  \n",
    "file_paths = glob.glob(os.path.join(data_dir, '*-combined-kml.csv'))\n",
    "print(f'Found {len(file_paths)} files:')\n",
    "for fp in file_paths[:5]:\n",
    "    print(' ', os.path.basename(fp))\n"
   ],
   "id": "initial_id",
   "outputs": [
    {
     "name": "stdout",
     "output_type": "stream",
     "text": [
      "Found 136 files:\n",
      "  2022-07-04-garbo02-combined-kml.csv\n",
      "  2022-07-08-garbo04-combined-kml.csv\n",
      "  2022-07-21-garbo06-combined-kml.csv\n",
      "  2022-07-06-garbo08-combined-kml.csv\n",
      "  2022-07-19-garbo08-combined-kml.csv\n"
     ]
    }
   ],
   "execution_count": 8
  },
  {
   "metadata": {
    "ExecuteTime": {
     "end_time": "2025-04-21T06:37:30.065811Z",
     "start_time": "2025-04-21T06:37:30.018627Z"
    }
   },
   "cell_type": "code",
   "source": [
    "import numpy as np\n",
    "\n",
    "# 3. Combine samples (or all files!) and basic cleaning\n",
    "df = pd.concat(dfs, ignore_index=True)\n",
    "\n",
    "# convert UNIX timestamp if present\n",
    "if 'time' in df.columns:\n",
    "    df['datetime'] = pd.to_datetime(df['time'], unit='s')\n",
    "\n",
    "# mark invalid GPS as NaN and drop them\n",
    "for c in ['latitude','longitude']:\n",
    "    df.loc[df[c]==99999, c] = np.nan\n",
    "df.dropna(subset=['latitude','longitude'], inplace=True)\n",
    "df.reset_index(drop=True, inplace=True)\n",
    "\n",
    "print(f'After cleaning: {df.shape[0]} rows')\n"
   ],
   "id": "4f0c3768dd026bf3",
   "outputs": [
    {
     "name": "stdout",
     "output_type": "stream",
     "text": [
      "After cleaning: 77892 rows\n"
     ]
    }
   ],
   "execution_count": 10
  },
  {
   "metadata": {
    "ExecuteTime": {
     "end_time": "2025-04-21T06:38:20.358604Z",
     "start_time": "2025-04-21T06:38:20.304611Z"
    }
   },
   "cell_type": "code",
   "source": "df.isna().sum()",
   "id": "4b42d152b66f068",
   "outputs": [
    {
     "data": {
      "text/plain": [
       "time                    0\n",
       "Day                     0\n",
       "Year                    0\n",
       "Month                   0\n",
       "Date                    0\n",
       "hour                    0\n",
       "min                     0\n",
       "sec                     0\n",
       "timezone                0\n",
       "latitude                0\n",
       "longitude               0\n",
       "speed                   0\n",
       "truck                   0\n",
       "svr1                10201\n",
       "svr2                10201\n",
       "svr3                10201\n",
       "svr4                10201\n",
       "Role                 1271\n",
       "Transfer size        1271\n",
       "Transfer unit        1270\n",
       "Bitrate              1271\n",
       "bitrate_unit         1270\n",
       "Retransmissions      1271\n",
       "CWnd                 1272\n",
       "cwnd_unit            1270\n",
       "Role-RX              1272\n",
       "Transfer size-RX     1272\n",
       "Transfer unit-RX     1272\n",
       "Bitrate-RX           1272\n",
       "bitrate_unit-RX      1272\n",
       "send_data             383\n",
       "square_id            7544\n",
       "datetime                0\n",
       "dtype: int64"
      ]
     },
     "execution_count": 12,
     "metadata": {},
     "output_type": "execute_result"
    }
   ],
   "execution_count": 12
  },
  {
   "metadata": {},
   "cell_type": "code",
   "outputs": [],
   "execution_count": null,
   "source": "",
   "id": "b8e675b5e9c22b1a"
  }
 ],
 "metadata": {
  "kernelspec": {
   "display_name": "Python 3",
   "language": "python",
   "name": "python3"
  },
  "language_info": {
   "codemirror_mode": {
    "name": "ipython",
    "version": 2
   },
   "file_extension": ".py",
   "mimetype": "text/x-python",
   "name": "python",
   "nbconvert_exporter": "python",
   "pygments_lexer": "ipython2",
   "version": "2.7.6"
  }
 },
 "nbformat": 4,
 "nbformat_minor": 5
}
