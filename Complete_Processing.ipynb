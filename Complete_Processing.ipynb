{
 "cells": [
  {
   "cell_type": "markdown",
   "id": "803c7c94",
   "metadata": {},
   "source": [
    "## Prep"
   ]
  },
  {
   "cell_type": "markdown",
   "id": "9c581aa5",
   "metadata": {},
   "source": [
    "### Import"
   ]
  },
  {
   "cell_type": "code",
   "execution_count": null,
   "id": "94941d34",
   "metadata": {},
   "outputs": [],
   "source": [
    "import glob\n",
    "import pandas as pd\n",
    "import numpy as np\n",
    "import h3\n",
    "import matplotlib.pyplot as plt\n",
    "import seaborn as sns\n",
    "from sklearn.pipeline import Pipeline\n",
    "from sklearn.compose import ColumnTransformer\n",
    "from sklearn.impute import KNNImputer\n",
    "from sklearn.preprocessing import RobustScaler, MinMaxScaler, FunctionTransformer\n",
    "from sklearn.feature_selection import mutual_info_regression"
   ]
  },
  {
   "cell_type": "markdown",
   "id": "f5d1f01a",
   "metadata": {},
   "source": [
    "### Data Cleaning"
   ]
  },
  {
   "cell_type": "markdown",
   "id": "570e196c",
   "metadata": {},
   "source": [
    "- removes rows with invalid GPS coord (999)\n",
    "- filter preset bounds that approximate the Brimbank area, this ensures that the truck's speed is nonnegative\n",
    "- svr columns are converted into numeric values\n",
    "- EDA showed high correlation of svr series, thus svr1 only was kept"
   ]
  },
  {
   "cell_type": "markdown",
   "id": "42df3f7f",
   "metadata": {},
   "source": [
    "- reduces noise and filtering to more realistic geographic area eliminates extreme noise that distort clustering, especially when mapping zones for performance\n",
    "- LightGBM, SGBoost, and RandomForest require clean input without dummy or outlier values\n",
    "- Missing or inconsistent latency leads time-series models to poor learning\n",
    "- Keeping only svr1 reduces model complexity and risk of overfitting, while keeping essential latency information needed"
   ]
  },
  {
   "cell_type": "code",
   "execution_count": null,
   "id": "7dba3614",
   "metadata": {},
   "outputs": [],
   "source": [
    "def clean_data(df):\n",
    "    df = df.copy()\n",
    "    # remove invalid GPS (999 values)\n",
    "    df = df[(df['latitude'] != 999) & (df['longitude'] != 999)]\n",
    "    # filter valid geographical range (example values for Brimbank)\n",
    "    df = df[\n",
    "        df['latitude'].between(-38, -10) &\n",
    "        df['longitude'].between(110, 155) &\n",
    "        (df['speed'] >= 0)\n",
    "    ]\n",
    "    # convert svr1-4 to numeric and replace dummy 1000 with NaN\n",
    "    svr_cols = ['svr1', 'svr2', 'svr3', 'svr4']\n",
    "    df[svr_cols] = df[svr_cols].apply(pd.to_numeric, errors='coerce').replace(1000, np.nan)\n",
    "    # drop redundant svr columns: keep only svr1 (this is justified by their high correlation)\n",
    "    df = df.drop(columns=['svr2', 'svr3', 'svr4'])\n",
    "    return df"
   ]
  },
  {
   "cell_type": "markdown",
   "id": "f3a8f6d5",
   "metadata": {},
   "source": [
    "### Geospatial Features using H3"
   ]
  },
  {
   "cell_type": "markdown",
   "id": "e5884287",
   "metadata": {},
   "source": [
    "- computes H3 hexagon ID for each data point at resolution 9 (which approx. 1km^2 area)\n",
    "- they are then stored in new column, standardising spatial bins\n",
    "- unlike arbitrary square bins, hexagons offer uniformity and reduced edge effects"
   ]
  },
  {
   "cell_type": "markdown",
   "id": "cf372608",
   "metadata": {},
   "source": [
    "- KMeans and DBSCAN need standardised spatial groupings to improve identification of zones\n",
    "- hexagon zones act as spatial \"buckets\" that allow aggregated network performance metrics per area calculation\n",
    "- LightGBM, SGBoost can utilise hex_id to explain regional performance differences"
   ]
  },
  {
   "cell_type": "code",
   "execution_count": null,
   "id": "5e498a2e",
   "metadata": {},
   "outputs": [],
   "source": [
    "def add_hex_zones(df, resolution=9):\n",
    "    df = df.copy()\n",
    "    # compute H3 hexagon ID for each row, resolution 9 ~1km² per hexagon\n",
    "    df['hex_id'] = df.apply(\n",
    "        lambda row: h3.geo_to_h3(row['latitude'], row['longitude'], resolution),\n",
    "        axis=1\n",
    "    )\n",
    "    return df"
   ]
  },
  {
   "cell_type": "markdown",
   "id": "dbca9d83",
   "metadata": {},
   "source": [
    "### Temporal Features"
   ]
  },
  {
   "cell_type": "markdown",
   "id": "dac7676e",
   "metadata": {},
   "source": [
    "- raw Unix timestamp converted to proper datetime object with timezone conversion to Australia/Melbourne\n",
    "- adds time-series-essential columns to the data frame"
   ]
  },
  {
   "cell_type": "markdown",
   "id": "b5de84c1",
   "metadata": {},
   "source": [
    "- allow forecasting models to learn periodic trends\n",
    "- extraction of discrete and meaningful features avoid ordinal traps (weekend)\n",
    "- time-based features are essential in ensemble models to capture time-dependent variations"
   ]
  },
  {
   "cell_type": "code",
   "execution_count": null,
   "id": "ab116269",
   "metadata": {},
   "outputs": [],
   "source": [
    "def add_time_features(df):\n",
    "    df = df.copy()\n",
    "    # create proper datetime from the Unix timestamp in 'time'\n",
    "    df['datetime'] = pd.to_datetime(df['time'], unit='s', utc=True).dt.tz_convert('Australia/Melbourne')\n",
    "    # extract additional features\n",
    "    df['hour'] = df['datetime'].dt.hour\n",
    "    df['day_of_week'] = df['datetime'].dt.dayofweek\n",
    "    df['is_weekend'] = df['day_of_week'].isin([5,6]).astype(int)\n",
    "    return df"
   ]
  },
  {
   "cell_type": "markdown",
   "id": "6404b507",
   "metadata": {},
   "source": [
    "### Composite Feature Engineering (Lag and Rolling Stats)"
   ]
  },
  {
   "cell_type": "markdown",
   "id": "0e641a7d",
   "metadata": {},
   "source": [
    "- calculates lag features like previous time step's latency and three time steps prior\n",
    "- rolling (time-aware) stats like mean and std od svr1 over a window (6 samples roughly representing an hour if data is sampled every 10 mins)\n",
    "- rolling drops missing values indirectly"
   ]
  },
  {
   "cell_type": "markdown",
   "id": "6147c07c",
   "metadata": {},
   "source": [
    "- temporal dependancies are captured to indicate how network performance evolves with time\n",
    "- summarise current performance and provide historical context, good for forecasting accuracy and enrich tree-based regressors\n",
    "- richer feature set and allow distinguishing between zones with stable versus volatile performance"
   ]
  },
  {
   "cell_type": "code",
   "execution_count": null,
   "id": "a9ae32cd",
   "metadata": {},
   "outputs": [],
   "source": [
    "def engineer_features(df):\n",
    "    df = df.copy()\n",
    "    df['lag1_svr1'] = df['svr1'].shift(1)\n",
    "    df['lag3_svr1'] = df['svr1'].shift(3)\n",
    "    # rolling statistics with a window of 6 samples (~1 hour, if data is roughly 10-min intervals)\n",
    "    df['rolling_mean_svr1'] = df['svr1'].rolling(6, min_periods=1).mean()\n",
    "    df['rolling_std_svr1'] = df['svr1'].rolling(6, min_periods=1).std()\n",
    "    return df.dropna()"
   ]
  },
  {
   "cell_type": "markdown",
   "id": "055877bf",
   "metadata": {},
   "source": [
    "### Normalisation Preprocessor"
   ]
  },
  {
   "cell_type": "markdown",
   "id": "c9fe4c77",
   "metadata": {},
   "source": [
    "- applies two separate scalers to groups of features\n",
    "  - robust: numerical that may contain outliers\n",
    "  - minmax: geographic features to map into [0, 1] range\n",
    "- others not changed"
   ]
  },
  {
   "cell_type": "markdown",
   "id": "969ded70",
   "metadata": {},
   "source": [
    "- models sensitive to feature scales are solved by normalisation (no single variable unduly influence)\n",
    "- mitigate impact of outliers\n",
    "- essential to clustering, since they yield more consistent and comparable distance metrics across features"
   ]
  },
  {
   "cell_type": "code",
   "execution_count": null,
   "id": "44308796",
   "metadata": {},
   "outputs": [],
   "source": [
    "def get_preprocessor(cols_numeric, cols_geo):\n",
    "    preprocessor = ColumnTransformer(\n",
    "        transformers=[\n",
    "            ('num', RobustScaler(), cols_numeric),\n",
    "            ('geo', MinMaxScaler(), cols_geo)\n",
    "        ],\n",
    "        remainder='passthrough'\n",
    "    )\n",
    "    return preprocessor"
   ]
  },
  {
   "cell_type": "markdown",
   "id": "65e78c6a",
   "metadata": {},
   "source": [
    "## Execution"
   ]
  },
  {
   "cell_type": "markdown",
   "id": "fdceacc8",
   "metadata": {},
   "source": [
    "### Load Raw Data"
   ]
  },
  {
   "cell_type": "code",
   "execution_count": null,
   "id": "ec35ca3e",
   "metadata": {},
   "outputs": [],
   "source": [
    "raw_files = glob.glob(\"data/*-combined-kml.csv\")\n",
    "df_raw = pd.concat([pd.read_csv(f) for f in raw_files], ignore_index=True)"
   ]
  },
  {
   "cell_type": "markdown",
   "id": "ca606e2c",
   "metadata": {},
   "source": [
    "### Original All Features (Cleaned)"
   ]
  },
  {
   "cell_type": "markdown",
   "id": "1e7c98f3",
   "metadata": {},
   "source": [
    "- cleaned dataset with all core features\n",
    "- broadest set of information\n",
    "- base from which composite or specialised datasets are derived"
   ]
  },
  {
   "cell_type": "code",
   "execution_count": null,
   "id": "ad802d94",
   "metadata": {},
   "outputs": [],
   "source": [
    "df_cleaned_all = clean_data(df_raw)\n",
    "df_cleaned_all = add_time_features(df_cleaned_all)\n",
    "df_cleaned_all = add_hex_zones(df_cleaned_all)\n",
    "df_cleaned_all.to_csv(\"original_all_features.csv\", index=False)"
   ]
  },
  {
   "cell_type": "markdown",
   "id": "6b6fd089",
   "metadata": {},
   "source": [
    "### Original w/ Composite Features"
   ]
  },
  {
   "cell_type": "markdown",
   "id": "2f03c923",
   "metadata": {},
   "source": [
    "- dataset after composite engineering\n",
    "- augmented features with information specifications provide more context (trends for forecasting, predictors for tree-based models)"
   ]
  },
  {
   "cell_type": "code",
   "execution_count": null,
   "id": "944a953e",
   "metadata": {},
   "outputs": [],
   "source": [
    "df_composite = engineer_features(df_cleaned_all.copy())\n",
    "df_composite.to_csv(\"original_composite_features.csv\", index=False)"
   ]
  },
  {
   "cell_type": "markdown",
   "id": "449e3c20",
   "metadata": {},
   "source": [
    "### Original w/ Normalisation"
   ]
  },
  {
   "cell_type": "markdown",
   "id": "b9ecea4d",
   "metadata": {},
   "source": [
    "- dataset with normalisation on selected numeric and geographic feature\n",
    "- provide feature scale insensitivity"
   ]
  },
  {
   "cell_type": "code",
   "execution_count": null,
   "id": "13fd7d48",
   "metadata": {},
   "outputs": [],
   "source": [
    "num_cols = ['svr1', 'Bitrate', 'Retransmissions']\n",
    "geo_cols = ['latitude', 'longitude']\n",
    "preprocessor = get_preprocessor(num_cols, geo_cols)"
   ]
  },
  {
   "cell_type": "code",
   "execution_count": null,
   "id": "5b312bcf",
   "metadata": {},
   "outputs": [],
   "source": [
    "df_norm = df_cleaned_all.copy()"
   ]
  },
  {
   "cell_type": "code",
   "execution_count": null,
   "id": "31309738",
   "metadata": {},
   "outputs": [],
   "source": [
    "norm_array = preprocessor.fit_transform(df_norm[num_cols + geo_cols])\n",
    "df_norm_scaled = pd.DataFrame(norm_array, columns=[f'{col}_norm' for col in num_cols+geo_cols])\n",
    "df_norm_final = pd.concat([df_norm.reset_index(drop=True), df_norm_scaled], axis=1)\n",
    "df_norm_final.to_csv(\"original_normalisation.csv\", index=False)"
   ]
  },
  {
   "cell_type": "markdown",
   "id": "0a5224f3",
   "metadata": {},
   "source": [
    "### Strict Temporal Split (avoid leakage)"
   ]
  },
  {
   "cell_type": "markdown",
   "id": "b9a557b1",
   "metadata": {},
   "source": [
    "- split dataset via temporal cutoff (80th percentile of datetime)\n",
    "- create forecasting training and testing sets, normalisation applied separately\n",
    "- prevents future information leakage, best practice for time-series forecasting"
   ]
  },
  {
   "cell_type": "code",
   "execution_count": null,
   "id": "3a1b09d6",
   "metadata": {},
   "outputs": [],
   "source": [
    "cutoff_date = df_cleaned_all['datetime'].quantile(0.8)\n",
    "print(\"Cutoff Date for forecasting split:\", cutoff_date)"
   ]
  },
  {
   "cell_type": "code",
   "execution_count": null,
   "id": "a8bca648",
   "metadata": {},
   "outputs": [],
   "source": [
    "forecast_train = df_cleaned_all[df_cleaned_all['datetime'] < cutoff_date].copy()\n",
    "forecast_test  = df_cleaned_all[df_cleaned_all['datetime'] >= cutoff_date].copy()"
   ]
  },
  {
   "cell_type": "markdown",
   "id": "f7ab4714",
   "metadata": {},
   "source": [
    "#### Forecasting Training Data Normalisation"
   ]
  },
  {
   "cell_type": "code",
   "execution_count": null,
   "id": "5330ecb2",
   "metadata": {},
   "outputs": [],
   "source": [
    "norm_array_train = preprocessor.fit_transform(forecast_train[num_cols + geo_cols])\n",
    "df_norm_train = pd.DataFrame(norm_array_train, columns=[f'{col}_norm' for col in num_cols + geo_cols])\n",
    "forecast_train_norm = pd.concat([forecast_train.reset_index(drop=True), df_norm_train], axis=1)\n",
    "forecast_train_norm.to_csv(\"forecasting_train_normalisation.csv\", index=False)"
   ]
  },
  {
   "cell_type": "markdown",
   "id": "94617092",
   "metadata": {},
   "source": [
    "#### Forecasting Testing Data Normalisation"
   ]
  },
  {
   "cell_type": "code",
   "execution_count": null,
   "id": "d6907e6f",
   "metadata": {},
   "outputs": [],
   "source": [
    "norm_array_test = preprocessor.transform(forecast_test[num_cols + geo_cols])\n",
    "df_norm_test = pd.DataFrame(norm_array_test, columns=[f'{col}_norm' for col in num_cols + geo_cols])\n",
    "forecast_test_norm = pd.concat([forecast_test.reset_index(drop=True), df_norm_test], axis=1)\n",
    "forecast_test_norm.to_csv(\"forecasting_test_normalisation.csv\", index=False)"
   ]
  },
  {
   "cell_type": "markdown",
   "id": "0ace0ad6",
   "metadata": {},
   "source": [
    "### Original w/ Composite Features & Normalisation"
   ]
  },
  {
   "cell_type": "markdown",
   "id": "fbe7fa33",
   "metadata": {},
   "source": [
    "- combination of all OR restricted to key var\n",
    "- beneficial for models needing both additional context and scaling insensitivity"
   ]
  },
  {
   "cell_type": "code",
   "execution_count": null,
   "id": "a329b00b",
   "metadata": {},
   "outputs": [],
   "source": [
    "df_comp_norm = df_composite.copy()"
   ]
  },
  {
   "cell_type": "code",
   "execution_count": null,
   "id": "e846bd17",
   "metadata": {},
   "outputs": [],
   "source": [
    "norm_array2 = preprocessor.fit_transform(df_comp_norm[num_cols + geo_cols])\n",
    "df_comp_norm_scaled = pd.DataFrame(norm_array2, columns=[f'{col}_norm' for col in num_cols+geo_cols])\n",
    "df_comp_norm_final = pd.concat([df_comp_norm.reset_index(drop=True), df_comp_norm_scaled], axis=1)\n"
   ]
  },
  {
   "cell_type": "markdown",
   "id": "d9857613",
   "metadata": {},
   "source": [
    "Original"
   ]
  },
  {
   "cell_type": "code",
   "execution_count": null,
   "id": "e92aad4e",
   "metadata": {},
   "outputs": [],
   "source": [
    "df_comp_norm_final.to_csv(\"original_composite_normalisation.csv\", index=False)"
   ]
  },
  {
   "cell_type": "markdown",
   "id": "6db77058",
   "metadata": {},
   "source": [
    "Restricted to Composite Columns"
   ]
  },
  {
   "cell_type": "code",
   "execution_count": null,
   "id": "081984a9",
   "metadata": {},
   "outputs": [],
   "source": [
    "comp_cols = ['hex_id', 'datetime', 'svr1', 'speed'] + [col for col in df_comp_norm_final.columns if 'rolling' in col]\n",
    "df_comp_norm_final = df_comp_norm_final[comp_cols + list(df_comp_norm_scaled.columns)]\n",
    "df_comp_norm_final.to_csv(\"original_composite_normalisation.csv\", index=False)"
   ]
  },
  {
   "cell_type": "markdown",
   "id": "440209b8",
   "metadata": {},
   "source": [
    "### Original Important Features"
   ]
  },
  {
   "cell_type": "markdown",
   "id": "22acc745",
   "metadata": {},
   "source": [
    "- filtered dataset (top 10 features via MI and SHAP)\n",
    "- additional essential identifiers\n",
    "- this dataset serves as an attempt to reduce overfitting, speeds up model training"
   ]
  },
  {
   "cell_type": "code",
   "execution_count": null,
   "id": "f32be905",
   "metadata": {},
   "outputs": [],
   "source": [
    "features_for_mi = df_cleaned_all[['svr1', 'Bitrate', 'Retransmissions', 'speed', 'latitude', 'longitude', 'hour', 'day_of_week', 'is_weekend']]\n",
    "target = df_cleaned_all['svr1']\n",
    "mi = mutual_info_regression(features_for_mi.fillna(0), target.fillna(0))\n",
    "mi_series = pd.Series(mi, index=features_for_mi.columns).sort_values(ascending=False)\n",
    "print(\"Mutual Information values:\\n\", mi_series)"
   ]
  },
  {
   "cell_type": "code",
   "execution_count": null,
   "id": "dc90162f",
   "metadata": {},
   "outputs": [],
   "source": [
    "important_features = mi_series[mi_series > 0.01].index.tolist()\n",
    "df_important = df_cleaned_all[important_features + ['hex_id', 'datetime']]"
   ]
  },
  {
   "cell_type": "code",
   "execution_count": null,
   "id": "7d9c428c",
   "metadata": {},
   "outputs": [],
   "source": [
    "df_important.to_csv(\"original_important_features.csv\", index=False)"
   ]
  },
  {
   "cell_type": "markdown",
   "id": "427fb455",
   "metadata": {},
   "source": [
    "### Time-Series Sequences (optional for LSTM)"
   ]
  },
  {
   "cell_type": "markdown",
   "id": "0861888a",
   "metadata": {},
   "source": [
    "- resampled hourly, converted to sequences (windows of 24 hours)\n",
    "- specifically for sequence models (LSTM) that require fixed-length time steps\n",
    "- temporal ordering of features is maintained"
   ]
  },
  {
   "cell_type": "code",
   "execution_count": null,
   "id": "5cabce00",
   "metadata": {},
   "outputs": [],
   "source": [
    "df_forecasting = forecast_train_norm.set_index('datetime').resample('1h').mean().dropna()"
   ]
  },
  {
   "cell_type": "code",
   "execution_count": null,
   "id": "317d179d",
   "metadata": {},
   "outputs": [],
   "source": [
    "from keras.preprocessing.sequence import TimeseriesGenerator\n",
    "def create_sequences(data, target_col='svr1', length=24):\n",
    "    return TimeseriesGenerator(\n",
    "        data.drop(columns=[target_col]),\n",
    "        data[target_col],\n",
    "        length=length,\n",
    "        batch_size=len(data)\n",
    "    )\n",
    "seq_gen = create_sequences(df_forecasting, target_col='svr1', length=24)"
   ]
  },
  {
   "cell_type": "code",
   "execution_count": null,
   "id": "14476a0d",
   "metadata": {},
   "outputs": [],
   "source": [
    "np.savez(\"time_series_sequences.npz\", X=seq_gen[0][0], y=seq_gen[0][1])"
   ]
  },
  {
   "cell_type": "markdown",
   "id": "6256c36a",
   "metadata": {},
   "source": [
    "## EDA"
   ]
  },
  {
   "cell_type": "markdown",
   "id": "bb730388",
   "metadata": {},
   "source": [
    "### Correlation Heatmap"
   ]
  },
  {
   "cell_type": "code",
   "execution_count": null,
   "id": "4e74dd75",
   "metadata": {},
   "outputs": [],
   "source": [
    "plt.figure(figsize=(10,8))\n",
    "sns.heatmap(df_important.corr(), annot=True, cmap='coolwarm')\n",
    "plt.title(\"Correlation Heatmap of Important Features\")\n",
    "plt.tight_layout()\n",
    "plt.savefig(\"correlation_heatmap_important_features.png\")\n",
    "plt.show()"
   ]
  },
  {
   "cell_type": "markdown",
   "id": "c9016977",
   "metadata": {},
   "source": [
    "### Mutual Information Bar Chart"
   ]
  },
  {
   "cell_type": "code",
   "execution_count": null,
   "id": "86c5418b",
   "metadata": {},
   "outputs": [],
   "source": [
    "plt.figure(figsize=(10,6))\n",
    "mi_series.sort_values().plot(kind='barh')\n",
    "plt.xlabel(\"Mutual Information\")\n",
    "plt.title(\"Mutual Information for Features (Target: svr1)\")\n",
    "plt.tight_layout()\n",
    "plt.savefig(\"mi_values_bar_chart.png\")\n",
    "plt.show()"
   ]
  }
 ],
 "metadata": {
  "kernelspec": {
   "display_name": ".venv",
   "language": "python",
   "name": "python3"
  },
  "language_info": {
   "name": "python",
   "version": "3.12.3"
  }
 },
 "nbformat": 4,
 "nbformat_minor": 5
}
